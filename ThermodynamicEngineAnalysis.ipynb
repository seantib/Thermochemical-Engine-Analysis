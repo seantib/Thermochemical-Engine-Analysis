{
 "cells": [
  {
   "cell_type": "markdown",
   "metadata": {},
   "source": [
    "# Thermodynamic Engine Analysis and Design"
   ]
  },
  {
   "cell_type": "markdown",
   "metadata": {},
   "source": [
    "In this Example, we'll take a look at the thermodynamic engine analysis setup that is currently in development on my Github. "
   ]
  },
  {
   "cell_type": "markdown",
   "metadata": {},
   "source": [
    "All math from which this is derived is taken from NASA's CEA Documentation (RP-1311)"
   ]
  },
  {
   "cell_type": "markdown",
   "metadata": {},
   "source": [
    "If you're running this on Jupyter, you'll have to run it in headless mode (no GUI, unfortuantely), but you can still see all the cool stuff"
   ]
  },
  {
   "cell_type": "markdown",
   "metadata": {},
   "source": [
    "The program of inerest to run will be Equilibrium.py, however, some editing will be required.\n",
    "First, you'll need to select your fuels and oxidizers, O/F ratio, and chamber pressure. Some default values for the engine sizing are also available, however, these aren't output quite yet. The important values will be apparent. "
   ]
  },
  {
   "cell_type": "markdown",
   "metadata": {},
   "source": [
    "## Step 1: Open Equilibrium.py\n",
    "Look for the code called:"
   ]
  },
  {
   "cell_type": "markdown",
   "metadata": {},
   "source": [
    "`Po = 1e5   #Pa             # Chamber Pressure\n",
    "fuel = ('CH4',300,1,'fuel')\n",
    "oxidizer = ('O2(L)',90.17,1,'oxid')\n",
    "Exit = []`"
   ]
  },
  {
   "cell_type": "markdown",
   "metadata": {},
   "source": [
    "The fuel and oxidizer are both tuples, which are fancy lists that cannot be editied accidentally. Each tuple is composed of:"
   ]
  },
  {
   "cell_type": "markdown",
   "metadata": {},
   "source": [
    "propellant name"
   ]
  },
  {
   "cell_type": "markdown",
   "metadata": {},
   "source": [
    "propellant initial temperature (K)"
   ]
  },
  {
   "cell_type": "markdown",
   "metadata": {},
   "source": [
    "propellant weight percentage (0-1) - Percentage amount by weight that makes up total fuel OR total oxidizer"
   ]
  },
  {
   "cell_type": "markdown",
   "metadata": {},
   "source": [
    "propellant type (fuel or oxid)"
   ]
  },
  {
   "cell_type": "markdown",
   "metadata": {},
   "source": [
    "## Exit Conditions\n",
    "Exit conditions are set with three types in mind:  \n",
    "Area  \n",
    "Pressure  \n",
    "Separation"
   ]
  },
  {
   "cell_type": "markdown",
   "metadata": {},
   "source": [
    "### Area\n",
    "Sounds exactly like what it is, simply enter  \n",
    "`Exit = ['Area',4.54]`  \n",
    "for an exit area ratio of 4.54"
   ]
  },
  {
   "cell_type": "markdown",
   "metadata": {},
   "source": [
    "### Pressure  \n",
    "Does exactly that, sets an exit pressure in Pascals  \n",
    "`Exit = ['Pressure,100000']`  \n",
    "for an exit pressure of:  \n",
    "$P_{exit} = 100000 $ Pa"
   ]
  },
  {
   "cell_type": "markdown",
   "metadata": {},
   "source": [
    "### Separation\n",
    "Calcualtes the exit area (and therefore pressure) for the separation pressure, given $P_{atm}$  \n",
    "`Exit = ['Separation,100000]`  \n",
    "For Separation at Sea Level, where  \n",
    "$P_{atm} = 100000$ Pa"
   ]
  },
  {
   "cell_type": "markdown",
   "metadata": {},
   "source": [
    "### Multiple Conditions  \n",
    "Multiple exit conditions can be ran at the same time, and will produce an extra column of output data!  \n",
    "The calculations for force, area, etc, only take the _LAST_ column of data as reference  \n",
    "`Exit = ['Area',10.9,'Separation',100000'`"
   ]
  },
  {
   "cell_type": "code",
   "execution_count": 3,
   "metadata": {},
   "outputs": [
    {
     "name": "stdout",
     "output_type": "stream",
     "text": [
      "Fuel: CH4\n",
      "Oxidizer: O2(L)\n",
      "Chamber Pressure: 28.0 BAR\n",
      "O/F Ratio: 2.7\n",
      "Exit Conditions: ['Area', 10.9]\n",
      "Running Solver...\n",
      "                      COMB            COMB END           THROAT             EXIT       \n",
      "----------------------------------------------------------------------------------------\n",
      "Pinj/P:           1.0000            1.0114            1.7464            86.1673           \n",
      "P, BAR:           28.0000           27.6847           16.0326           0.3249            \n",
      "T, K:             3224.1494         3221.7301         3044.9836         1734.1910         \n",
      "rho, kg/m^3:      1.9823            1.9616            1.2153            0.0446            \n",
      "H_0, kJ/kg:       -1551.5943        -1559.6302        -2305.2031        -6264.1964        \n",
      "G_0, kJ/kg:       -45796.6014       -45779.3859       -44099.0310       -30066.7815       \n",
      "S_0, kJ/(kg)(K):  13.7230           13.7255           13.7255           13.7255           \n",
      "M, kg/kmol:       18.9771           18.9784           19.1906           19.7831           \n",
      "Cp, kJ/(kg)(K):   6.2192            6.2181            5.4863            2.3500            \n",
      "GAMMAs:           1.1401            1.1401            1.1425            1.2188            \n",
      "SON VEL, (m/s):   1269.0328         1268.4930         1227.6879         942.4842          \n",
      "MACH:             0.0000            0.0999            1.0000            3.2574            \n",
      "\n",
      "PERFORMANCE CHARACTERISTICS\n",
      "Ae/At:                              6.000             1.000             10.900            \n",
      "C* (m/s):                           1866.071          1866.071          1866.071          \n",
      "CF_SL:                              5.818             1.198             1.381             \n",
      "CF_opt:                             0.068             0.658             1.645             \n",
      "CL_vac:                             6.034             1.234             1.772             \n",
      "ISP_SL (s):                         1106.781          227.849           262.680           \n",
      "ISP_opt (s):                        12.923            125.147           312.951           \n",
      "ISP_vac (s):                        1147.773          234.681           337.150           \n",
      "\n"
     ]
    }
   ],
   "source": [
    "run Equilibrium.py"
   ]
  },
  {
   "cell_type": "code",
   "execution_count": null,
   "metadata": {},
   "outputs": [],
   "source": []
  }
 ],
 "metadata": {
  "kernelspec": {
   "display_name": "Python 3",
   "language": "python",
   "name": "python3"
  },
  "language_info": {
   "codemirror_mode": {
    "name": "ipython",
    "version": 3
   },
   "file_extension": ".py",
   "mimetype": "text/x-python",
   "name": "python",
   "nbconvert_exporter": "python",
   "pygments_lexer": "ipython3",
   "version": "3.7.4"
  }
 },
 "nbformat": 4,
 "nbformat_minor": 4
}
